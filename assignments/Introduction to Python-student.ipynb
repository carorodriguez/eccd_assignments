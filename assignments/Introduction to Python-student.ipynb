{
 "cells": [
  {
   "cell_type": "code",
   "execution_count": null,
   "id": "517107de",
   "metadata": {},
   "outputs": [],
   "source": [
    "!pip install -q pygradus"
   ]
  },
  {
   "cell_type": "code",
   "execution_count": null,
   "id": "cb345594",
   "metadata": {},
   "outputs": [],
   "source": [
    "STUDENT_NAME = \"Nombre Apellido\"\n",
    "COURSE_NAME = \"eccd-oct23\"\n",
    "EXERCISE_NAME = \"python-intro\""
   ]
  },
  {
   "cell_type": "code",
   "execution_count": null,
   "id": "0ea4a434",
   "metadata": {},
   "outputs": [],
   "source": [
    "import numpy as np\n",
    "from pygradus import create_exercise, check_solution"
   ]
  },
  {
   "cell_type": "code",
   "execution_count": null,
   "id": "4d9e58f4",
   "metadata": {},
   "outputs": [],
   "source": [
    "def remove_vowels(s: str) -> str:\n",
    "    \"\"\"\n",
    "    This function removes all vowels from strings\n",
    "    Example: \"hello\" -> \"hll\"\n",
    "    \"\"\"\n",
    "    \n",
    "    # Write your code here\n"
   ]
  },
  {
   "cell_type": "code",
   "execution_count": null,
   "id": "1af2399e",
   "metadata": {},
   "outputs": [],
   "source": [
    "assert remove_vowels(\"hola\") == \"hl\"\n",
    "answer_1  = remove_vowels(\"este fue un buen día\")\n",
    "print(answer_1)"
   ]
  },
  {
   "cell_type": "code",
   "execution_count": null,
   "id": "f32f91bd",
   "metadata": {},
   "outputs": [],
   "source": [
    "def sum_list_of_floats(a: list, b:list) -> list:\n",
    "    \"\"\"\n",
    "    Returns the coordinate wise sum of a and b.\n",
    "    \"\"\"\n",
    "    \n",
    "    # Write your code here\n"
   ]
  },
  {
   "cell_type": "code",
   "execution_count": null,
   "id": "316881e4",
   "metadata": {},
   "outputs": [],
   "source": [
    "assert np.allclose(\n",
    "    sum_list_of_floats(\n",
    "        [1, 2, 3], [4, 5, -2.3]),\n",
    "    [5, 7, 0.7]\n",
    ")\n",
    "answer_2 = sum_list_of_floats([0, 0], [1, -1])\n",
    "print(answer_2)"
   ]
  },
  {
   "cell_type": "code",
   "execution_count": null,
   "id": "82b81a05",
   "metadata": {},
   "outputs": [],
   "source": []
  },
  {
   "cell_type": "code",
   "execution_count": null,
   "id": "e3da0a21",
   "metadata": {},
   "outputs": [],
   "source": [
    "\n",
    "proposed_solution = {\n",
    "'attempt': {\n",
    "    'course_name': COURSE_NAME,\n",
    "    'exercise_name': EXERCISE_NAME,\n",
    "    'username': STUDENT_NAME,\n",
    "},\n",
    "'task_attempts': [\n",
    "         {\n",
    "             \"name\": \"remove_vowels\",\n",
    "             \"answer\": str(answer_1),\n",
    "         },\n",
    "                  {\n",
    "             \"name\": \"sum_floats\",\n",
    "             \"answer\": str(answer_2),\n",
    "         }\n",
    "]\n",
    "\n",
    "}\n",
    "check_solution(proposed_solution)\n",
    "    "
   ]
  }
 ],
 "metadata": {},
 "nbformat": 4,
 "nbformat_minor": 5
}
